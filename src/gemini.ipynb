{
 "cells": [
  {
   "cell_type": "code",
   "execution_count": null,
   "metadata": {},
   "outputs": [],
   "source": [
    "!pip install -q -U google-genai\n",
    "!pip install PILLOW"
   ]
  },
  {
   "cell_type": "code",
   "execution_count": null,
   "metadata": {},
   "outputs": [],
   "source": [
    "from dotenv import load_dotenv\n",
    "import os\n",
    "\n",
    "load_dotenv()\n",
    "\n",
    "GEMINI_API_KEY = os.getenv(\"GEMINI_API_KEY\")"
   ]
  },
  {
   "cell_type": "markdown",
   "metadata": {},
   "source": [
    "Estilo de siempre... pregunta y espera a tener toda la respuestas"
   ]
  },
  {
   "cell_type": "code",
   "execution_count": null,
   "metadata": {},
   "outputs": [],
   "source": [
    "from google import genai\n",
    "\n",
    "client = genai.Client(api_key=\"GEMINI_API_KEY\")\n",
    "response = client.models.generate_content(\n",
    "    model=\"gemini-2.0-flash\", contents=\"Creame una función de python que diga si un numero es primo\"\n",
    ")\n",
    "print(response.text)\n"
   ]
  },
  {
   "cell_type": "markdown",
   "metadata": {},
   "source": [
    "# USAR CONTEXTO GRANDE"
   ]
  },
  {
   "cell_type": "code",
   "execution_count": 1,
   "metadata": {},
   "outputs": [
    {
     "name": "stdout",
     "output_type": "stream",
     "text": [
      "Aquí está el resumen del libro \"Harry Potter y la Piedra Filosofal\", basado en el contexto proporcionado:\n",
      "\n",
      "Harry Potter, un niño huérfano que ha vivido una vida infeliz con sus tíos, los Dursley, descubre en su undécimo cumpleaños que es un mago y que está destinado a asistir al Colegio Hogwarts de Magia y Hechicería. Hagrid, un gigante y guardián de Hogwarts, lo introduce en el mundo mágico y lo rescata de su vida en Privet Drive.\n",
      "\n",
      "En Hogwarts, Harry se hace amigo de Ron Weasley y Hermione Granger. Juntos, experimentan clases fascinantes, como Pociones, Transformaciones y Defensa Contra las Artes Oscuras, aunque Harry tiene un encontronazo inmediato con el profesor Snape. \n",
      "\n",
      "A medida que avanza el año escolar, Harry, Ron y Hermione descubren que la Piedra Filosofal, un objeto con el poder de conceder la inmortalidad, está oculta en Hogwarts. Sospechan que el profesor Snape está intentando robarla. Los amigos se enfrentan a una serie de desafíos mágicos para proteger la Piedra, que incluyen un perro de tres cabezas llamado Fluffy, la \"Devil's Snare\"(el lazo del diablo), llaves voladoras y un juego de ajedrez mágico.\n",
      "\n",
      "Finalmente, Harry se enfrenta al profesor Quirrell, quien está poseído por Lord Voldemort. Voldemort busca la Piedra Filosofal para recuperar su poder. Gracias al amor protector de su madre, Harry puede tocar a Quirrell sin sufrir daños, lo que provoca la derrota de Quirrell y la huida de Voldemort.\n",
      "\n",
      "Dumbledore llega para asegurar que la Piedra Filosofal sea destruida y para recompensar a Harry, Ron y Hermione por su valentía y astucia. Gryffindor gana la Copa de la Casa, y Harry regresa a los Dursley para el verano, sabiendo que ha encontrado un verdadero hogar en Hogwarts y que tiene amigos leales a su lado.\n",
      "\n"
     ]
    }
   ],
   "source": [
    "from google import genai\n",
    "\n",
    "client = genai.Client(api_key=\"GEMINI_API_KEY\")\n",
    "\n",
    "def read_file():\n",
    "    with open('../libros/sourcerersstone1.txt', 'r', encoding='utf-8') as file:\n",
    "        data = file.read()\n",
    "    return data\n",
    "\n",
    "  #Lee el contenido del archivo\n",
    "document_content = read_file()\n",
    "\n",
    "large_context_prompt = f\"\"\"BASATE EN ESTE CONTESTO, RESPONDE A KA PREGUNTA SOBRE EL CONTEXTO QUE TE ADJUNTO. y ayudas a los usuarios siempre en Español. NO TE PUEDES SALIR DEL CONTEXTO\n",
    "\n",
    "  Context:\n",
    "  {document_content}\n",
    "\n",
    "  Question: {\"creame un resumen del libro\"}\n",
    "\n",
    "  Answer:\"\"\"\n",
    "\n",
    "response = client.models.generate_content(\n",
    "    model=\"gemini-2.0-flash\", contents=large_context_prompt\n",
    ")\n",
    "print(response.text)\n"
   ]
  },
  {
   "cell_type": "code",
   "execution_count": null,
   "metadata": {},
   "outputs": [],
   "source": [
    "from google import genai\n",
    "from google.genai.types import Tool, GenerateContentConfig, GoogleSearch\n",
    "\n",
    "client = genai.Client(api_key=\"GEMINI_API_KEY\")\n",
    "model_id = \"gemini-2.0-flash-exp\"\n",
    "\n",
    "google_search_tool = Tool(\n",
    "    google_search = GoogleSearch()\n",
    ")\n",
    "\n",
    "response = client.models.generate_content(\n",
    "    model=model_id,\n",
    "    contents=\"Hablame de LIS Data Solutions\",\n",
    "    config=GenerateContentConfig(\n",
    "        tools=[google_search_tool],\n",
    "        response_modalities=[\"TEXT\"],\n",
    "    )\n",
    ")\n",
    "\n",
    "for each in response.candidates[0].content.parts:\n",
    "    print(each.text)\n",
    "# Example response:\n",
    "# The next total solar eclipse visible in the contiguous United States will be on ...\n",
    "\n",
    "# To get grounding metadata as web content.\n",
    "print(response.candidates[0].grounding_metadata.search_entry_point.rendered_content)"
   ]
  },
  {
   "cell_type": "markdown",
   "metadata": {},
   "source": [
    "Genere token a token..."
   ]
  },
  {
   "cell_type": "code",
   "execution_count": null,
   "metadata": {},
   "outputs": [],
   "source": [
    "\n",
    "response = client.models.generate_content_stream(\n",
    "    model=\"gemini-2.0-flash\",\n",
    "    contents=[\"Crea una función en python que diga si un número es primo\"])\n",
    "\n",
    "for chunk in response:\n",
    "    print(chunk.text, end=\"\")"
   ]
  },
  {
   "cell_type": "code",
   "execution_count": null,
   "metadata": {},
   "outputs": [],
   "source": [
    "from google.genai import types\n",
    "\n",
    "sys_instruct=\"NO PUEDES GENERAR CODIGO PYTHON, y si te preguntan por crear codigo python, debes responder: SOY UN LORO Y NO UN PROGRAMADOR\"\n",
    "\n",
    "response = client.models.generate_content(\n",
    "    model=\"gemini-2.0-flash\",\n",
    "    config=types.GenerateContentConfig(\n",
    "        system_instruction=sys_instruct),\n",
    "    contents=[\"Crea una función en python que diga si un número es primo\"]\n",
    ")\n",
    "\n",
    "print(response.text)"
   ]
  },
  {
   "cell_type": "code",
   "execution_count": null,
   "metadata": {},
   "outputs": [],
   "source": [
    "import base64\n",
    "from PIL import Image\n",
    "import io\n",
    "from google.genai import Client\n",
    "\n",
    "\n",
    "# Abrir imagen y convertirla a base64\n",
    "def encode_image(image_path):\n",
    "    with open(image_path, \"rb\") as image_file:\n",
    "        return base64.b64encode(image_file.read()).decode(\"utf-8\")\n",
    "\n",
    "image_base64 = encode_image(\"./coche.jpg\")\n",
    "\n",
    "# Construir la solicitud a la API\n",
    "response = client.models.generate_content(\n",
    "    model=\"gemini-2.0-flash\",\n",
    "    contents=[\n",
    "        {\n",
    "            \"parts\": [\n",
    "                {\"inline_data\": {\"mime_type\": \"image/jpeg\", \"data\": image_base64}},  # Imagen en base64\n",
    "                {\"text\": \"¿De qué color es el coche?\"},\n",
    "                {\"text\": \"¿Que coche es?\"},\n",
    "                {\"text\": \"Hablame de la serie\"}\n",
    "                \n",
    "            ]\n",
    "        }\n",
    "    ]\n",
    ")\n",
    "\n",
    "print(response.text)\n"
   ]
  },
  {
   "cell_type": "code",
   "execution_count": null,
   "metadata": {},
   "outputs": [],
   "source": [
    "sys_instruct=\"ERES UN EXPERTO COCINERO. Genera la respuesta en un JSON con las siguientes claves:'titulo' 'ingredientes', 'preparacion', 'tiempo'\"\n",
    "\n",
    "response = client.models.generate_content(\n",
    "    model=\"gemini-2.0-flash\",\n",
    "    config=types.GenerateContentConfig(\n",
    "        system_instruction=sys_instruct),\n",
    "    contents=[\"Tarta de queso de la viña\"]\n",
    ")\n",
    "\n",
    "print(response.text)"
   ]
  }
 ],
 "metadata": {
  "kernelspec": {
   "display_name": ".venv",
   "language": "python",
   "name": "python3"
  },
  "language_info": {
   "codemirror_mode": {
    "name": "ipython",
    "version": 3
   },
   "file_extension": ".py",
   "mimetype": "text/x-python",
   "name": "python",
   "nbconvert_exporter": "python",
   "pygments_lexer": "ipython3",
   "version": "3.12.8"
  }
 },
 "nbformat": 4,
 "nbformat_minor": 2
}
